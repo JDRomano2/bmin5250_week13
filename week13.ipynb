{
 "cells": [
  {
   "cell_type": "markdown",
   "id": "427002a0-a4b1-43c2-b2b4-da2afe57a2c3",
   "metadata": {},
   "source": [
    "# Week 13 - Data analysis pipelines and other topics\n",
    "## BMIN 5250; Fall 2023"
   ]
  },
  {
   "cell_type": "markdown",
   "id": "76c4071e-c06c-4d01-96cf-db4ed799ef9a",
   "metadata": {},
   "source": [
    "For the last lecture prior to final project presentations, we're changing it up. Rather than comprehensively exploring a single topic for the entire duration of the class period, we are going to do quick introductions to a bunch of miscellaneous topics that haven't been covered already (but are important for programmers to learn)."
   ]
  },
  {
   "cell_type": "markdown",
   "id": "6c0fdf3c-1aaa-4024-bd12-51d4fae0b74f",
   "metadata": {},
   "source": [
    "- - -\n",
    "## Argument parsing in Python\n",
    "\n",
    "The default way to retrieve command line arguments in a Python script is via `sys.argv`. Whenever you execute a Python script, `sys.argv` is populated with a list of command line arguments, delimited by spaces. \n",
    "\n",
    "The Standard Library includes the `argparse` module, which provides flexible and robust support for parsing command-line arguments. Some features included in `argparse` include:\n",
    "- Positional and/or keyword arguments\n",
    "- Optional/required arguments\n",
    "- Automatic help messages\n",
    "- Parsing datatypes\n",
    "- Conditional dependencies (i.e., arguments behave differently based on other argument values)\n",
    "\n",
    "The rough process of using `argparse` involves creating an `ArgumentParser` object, adding arguments to the object, parsing the arguments passed by the user when they ran the script, and then doing something useful with those arguments.\n",
    "\n",
    "Now, we'll look at a demo of both `sys.argv` and `argparse`. Since argument parsing only makes sense from the command line, we will work with scripts and the command line rather than code cells in this notebook."
   ]
  },
  {
   "cell_type": "code",
   "execution_count": 1,
   "id": "1a411166-116c-4435-8f1f-37044f8fcf50",
   "metadata": {
    "tags": []
   },
   "outputs": [
    {
     "name": "stdout",
     "output_type": "stream",
     "text": [
      "['/Users/jdr2160/mambaforge/envs/bmin5250/lib/python3.11/site-packages/ipykernel_launcher.py', '-f', '/Users/jdr2160/Library/Jupyter/runtime/kernel-ef6c89d7-903e-4455-90b1-ce2375028c58.json']\n"
     ]
    }
   ],
   "source": [
    "import sys\n",
    "print(sys.argv)"
   ]
  },
  {
   "cell_type": "markdown",
   "id": "7b9f874c-2ba3-4505-b2ea-8646bf3f78fb",
   "metadata": {},
   "source": [
    "Also note that there are other libraries that parse command line arguments. One that is becoming increasingly popular is [Click](https://click.palletsprojects.com/en/8.1.x/). If you're interested in writing command line apps in Python, it might be worth checking out!"
   ]
  },
  {
   "cell_type": "markdown",
   "id": "b94de3db-17fe-4980-a030-63658b530962",
   "metadata": {},
   "source": [
    "- - -\n",
    "\n",
    "## Git, GitHub, and version control\n",
    "\n",
    "**Version control** software keeps track of changes you make to your code, allowing you to return to former points in time if needed. Most version control software also facilitates multiple people working on the same code base simultaneously. The most popular version control software is **Git**, which was created by Linus Torvalds (the inventor of Linux) in 2005. Other version control systems include Subversion and Mercurial, but Git is by far the most popular.\n",
    "\n",
    "A key feature of Git is storing code in centralized **remote repositories**. These are basically servers that keep a copy of the code along with all the historical changes that have been made on it. Individual coders *clone* a copy of the repository onto their local computer, make changes that get tracked by Git, and then *push* those changes back to the remote repository.\n",
    "\n",
    "**GitHub** is an extraordinarily successful website that acts as a remote repository server along with many other features for sharing and collaboratively working on your code. Similar solutions include Bitbucket and GitLab, but GitHub is by far the most popular.\n",
    "\n",
    "We're now going to go through a full demo (on the command line) of creating a repository, tracking the repository using Git, and then putting the repository onto Github for reuse.\n",
    "\n",
    "If you are using Git, you should make sure to know the following basic commands (all of which are called from the command line):\n",
    "\n",
    "- `git clone`: Copy a repository from a remote location to your local machine.\n",
    "- `git add`: Add (\"stage\") one or more files to the list of tracked changes that will go in your next commit.\n",
    "- `git commit`: Have Git record all of your staged changes. This is like saving/checkpointing your work.\n",
    "- `git push`: Push any committed changes to the remote repository.\n",
    "- `git reset`: Revert uncommitted changes made to one or more files.\n",
    "\n",
    "All of these commands take a variety of additional arguments that affects their behavior. If you forget how to use them, apply the `--help` argument (e.g., `git commit --help`) to retrieve the manual page for the command, or browse the wealth of tutorials/documentation sites available online."
   ]
  },
  {
   "cell_type": "markdown",
   "id": "d7b7b695-efdf-4f44-a01a-e0cc2f5d66a9",
   "metadata": {},
   "source": [
    "- - -\n",
    "## Linking Python to command line tools"
   ]
  },
  {
   "cell_type": "markdown",
   "id": "6c2b9a0d-0536-4d9c-8f2d-9e62e4a6fde9",
   "metadata": {},
   "source": [
    "### Calling external commands from within Python\n",
    "\n",
    "Jupyter makes it pretty easy to call external programs from within a notebook. We've already seen this in the case of installing packages:"
   ]
  },
  {
   "cell_type": "code",
   "execution_count": 1,
   "id": "19faf8a3-1b6b-4a50-8506-c52d6e825e14",
   "metadata": {},
   "outputs": [
    {
     "name": "stdout",
     "output_type": "stream",
     "text": [
      "Collecting tqdm\n",
      "  Obtaining dependency information for tqdm from https://files.pythonhosted.org/packages/00/e5/f12a80907d0884e6dff9c16d0c0114d81b8cd07dc3ae54c5e962cc83037e/tqdm-4.66.1-py3-none-any.whl.metadata\n",
      "  Using cached tqdm-4.66.1-py3-none-any.whl.metadata (57 kB)\n",
      "Using cached tqdm-4.66.1-py3-none-any.whl (78 kB)\n",
      "Installing collected packages: tqdm\n",
      "Successfully installed tqdm-4.66.1\n"
     ]
    }
   ],
   "source": [
    "!pip install tqdm"
   ]
  },
  {
   "cell_type": "markdown",
   "id": "fbd8a6da-fcfb-48fe-9c20-17b132d33f37",
   "metadata": {},
   "source": [
    "The above line of code is a Unix command, NOT a Python command. The exclamation point (`!`) tells Jupyter to run the following command (`pip install tqdm`) on the command line rather than in the Python interpreter. \n",
    "\n",
    "However, we can also tell the Python interpreter itself to call a Unix command, and then to retrieve the output of that command. Several modules provide support for this (e.g., `os.system`), but it's good practice to always use the `subprocess` module, which is part of the Standard Library."
   ]
  },
  {
   "cell_type": "code",
   "execution_count": 10,
   "id": "6e41fd91-5648-4e71-a862-182d10d7050e",
   "metadata": {},
   "outputs": [
    {
     "name": "stdout",
     "output_type": "stream",
     "text": [
      "total 64\n",
      "drwxr-xr-x@ 2 jdr2160  staff     64 Nov 27 11:34 \u001b[1m\u001b[36mUntitled Folder\u001b[m\u001b[m\n",
      "-rw-r--r--@ 1 jdr2160  staff    765 Nov 27 11:57 argparse_demo.py\n",
      "-rw-r--r--@ 1 jdr2160  staff     27 Nov 27 11:37 argv_demo.py\n",
      "-rw-r--r--@ 1 jdr2160  staff     39 Nov 27 11:36 myfile1.txt\n",
      "-rw-r--r--@ 1 jdr2160  staff     71 Nov 27 11:37 myfile2.txt\n",
      "-rw-r--r--@ 1 jdr2160  staff  13536 Nov 28 11:04 week13.ipynb\n",
      "CompletedProcess(args=['ls', '-l'], returncode=0)\n",
      "\n",
      "<class 'subprocess.CompletedProcess'>\n"
     ]
    }
   ],
   "source": [
    "import subprocess\n",
    "\n",
    "res = subprocess.run([\"ls\", \"-l\"])\n",
    "\n",
    "print(res)\n",
    "print()\n",
    "print(res.__class__)"
   ]
  },
  {
   "cell_type": "markdown",
   "id": "355b7436-979c-428a-a314-153e98c1e471",
   "metadata": {},
   "source": [
    "A few things to note:\n",
    "\n",
    "- The result is an instance of `subprocess.CompletedProcess`. If you call `print` on this object, it will show the output of the command you ran.\n",
    "- Different arguments need to be passed as a list of strings. Notice that the command itself is the first string, followed by the first argument, etc.\n",
    "- You may need to do some fancy string parsing to take the result and make it \"usable\".\n",
    "- You can either retrieve and parse the system output, or if the command writes something to a file, you can open that file in Python and parse the results that way."
   ]
  },
  {
   "cell_type": "markdown",
   "id": "30a11fd2-f670-4ad2-bada-970bb24b98de",
   "metadata": {},
   "source": [
    "### Unix command line utilities\n",
    "\n",
    "Unix comes with many built-in utilities that can be used to process and manipulate text files. Sometimes you don't even need to use Python to do simple data processing. Other times, Python can be useful as an intermediary step in a longer chain of data manipulations (we'll see how to do that later). Overall, this type of work is accomplished by using *pipes*.\n",
    "\n",
    "Pipes are when you feed the output of one utility directly into the input of another utility. You can chain many commands together this way. The process is pretty simple - you just separate your commands using pipe (`|`) characters, and do everything on the same line.\n",
    "\n",
    "Another useful symbol is `>`, which will redirect the output of the final command of a pipeline into the text file following the symbol. We'll see an example of this a little later on.\n",
    "\n",
    "Some utilities to know are:\n",
    "\n",
    "- `cd`: Changes your current directory.\n",
    "- `pwd`: Prints the current directory.\n",
    "- `ls`: Lists files in a directory.\n",
    "- `grep`: Finds lines in a file (or pipe) that match a string or regular expression.\n",
    "- `cat`: Prints the contents of a string to the screen (or sends them to the next step via a pipe). Also can con`cat`enate new stuff onto an existing file.\n",
    "- `wc`: Counts words (use `-l` flag to count lines).\n",
    "- `sort`: Sorts the lines in a file.\n",
    "- `uniq`: Returns only unique lines. File must be sorted first.\n",
    "- `cut`: Filters down to specific columns in a delimited file.\n",
    "- `tee`: Acts like a 't-junction' in a pipe by simultaneously printing the output of the previous step and feeding that output to another subsequent step\n",
    "- `find`: Finds files. Warning - the syntax for `find` is complicated. I can't ever remember how to use it and need to look up examples online.\n",
    "- `tar`/`gzip`/`gunzip`/`zip`/`unzip`/etc...: Apply various compression/decompression algorithms to one or more files.\n",
    "- `man`: Looks up the `man`ual pages for the program in question (e.g., `man wc` tells you how to use `wc`).\n",
    "- `sudo`: Short for `su`peruser `do`. This \"elevates\" your privileges and allows you to do high-level administrative tasks like installing/uninstalling applications and moving/editing potentially sensitive files. You'll have to enter your password every 5 minutes when using `sudo`, and you may not have permission to use `sudo` on certain linux systems (e.g., Penn's high performance computing).\n",
    "\n",
    "#### Installing applications\n",
    "\n",
    "Most linux distributions come with a \"package manager\" that can be used to easily install software and dependencies from the command line. It's very similar to `pip install`. Ubuntu's package manager is called `apt`. For example, you can install `git` using `sudo apt install git`.\n",
    "\n",
    "#### Pipe demo\n",
    "\n",
    "See what happens when you run the following line of code:\n",
    "\n",
    "```\n",
    "cat diabetes_colnames.csv diabetes_data_raw.csv | tail -n +2 | cut -d' ' -f2 | sort | uniq\n",
    "```\n",
    "\n",
    "What does this tell you about the diabetes dataset?"
   ]
  },
  {
   "cell_type": "markdown",
   "id": "b5088686-7228-4d6f-874d-b55f2c5c7ae3",
   "metadata": {},
   "source": [
    "### Using Python with Unix pipes"
   ]
  },
  {
   "cell_type": "markdown",
   "id": "4e841fbd-f175-4947-b9a9-e9fcf5a954e2",
   "metadata": {},
   "source": [
    "Another totally valid way to integrate Python with other Unix utilities is to directly chain input and/or output of a Python script into a pipeline containing Unix pipes. To do this, you'll need to make sure that the script accepts *standard input* (called `stdin`) and returns *standard output* (called `stdout`). An example Python script is included alongside this notebook - how is it used in the context of the following Unix pipeline?\n",
    "\n",
    "```\n",
    "cat diabetes_data_raw.csv | tail -n +2 | grep -E '^\\d+\\s2\\s.*$' | python pipe_demo.py > diabetes_adul\n",
    "t_female.csv\n",
    "```"
   ]
  },
  {
   "cell_type": "markdown",
   "id": "8d20bd5d-5ed8-457c-bb1a-a7c3f512a571",
   "metadata": {},
   "source": [
    "If you are doing a lot of text file processing, it might be beneficial to learn the `sed` and `awk` tools. These are extraordinarily powerful tools that process lines of text and can accomplish a lot. In some situations, they might entirely obviate the need to use Python. Good tutorials are given on The Grymoire:\n",
    "\n",
    "- [sed](https://www.grymoire.com/Unix/Sed.html)\n",
    "- [awk](https://www.grymoire.com/Unix/Awk.html)\n",
    "\n",
    "In fact, many of the tutorials on that site are great. If you want to level-up your `grep` game, that is an excellent place to start."
   ]
  },
  {
   "cell_type": "code",
   "execution_count": null,
   "id": "f7597642-c54a-4df9-8366-adf16d37f691",
   "metadata": {},
   "outputs": [],
   "source": []
  }
 ],
 "metadata": {
  "kernelspec": {
   "display_name": "Python 3 (ipykernel)",
   "language": "python",
   "name": "python3"
  },
  "language_info": {
   "codemirror_mode": {
    "name": "ipython",
    "version": 3
   },
   "file_extension": ".py",
   "mimetype": "text/x-python",
   "name": "python",
   "nbconvert_exporter": "python",
   "pygments_lexer": "ipython3",
   "version": "3.11.5"
  }
 },
 "nbformat": 4,
 "nbformat_minor": 5
}
